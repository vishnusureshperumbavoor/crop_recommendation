{
 "cells": [
  {
   "cell_type": "markdown",
   "id": "a6203981",
   "metadata": {},
   "source": [
    "# DATA ANALYSIS"
   ]
  },
  {
   "cell_type": "code",
   "execution_count": null,
   "id": "cbac01d4",
   "metadata": {},
   "outputs": [],
   "source": [
    "import IPython\n",
    "import pandas as pd\n",
    "import numpy as np\n",
    "import matplotlib.pyplot as plt\n",
    "%matplotlib inline\n",
    "import seaborn as sb\n",
    "from IPython import get_ipython\n",
    "import warnings\n",
    "warnings.filterwarnings(\"ignore\")"
   ]
  },
  {
   "cell_type": "code",
   "execution_count": null,
   "id": "c3e31930",
   "metadata": {},
   "outputs": [],
   "source": [
    "data = pd.read_csv('Crop_recommendation.csv')"
   ]
  },
  {
   "cell_type": "code",
   "execution_count": null,
   "id": "eea856fb",
   "metadata": {},
   "outputs": [],
   "source": [
    "# Display top 5 rows of the dataset"
   ]
  },
  {
   "cell_type": "code",
   "execution_count": null,
   "id": "22083ad5",
   "metadata": {},
   "outputs": [],
   "source": [
    "data.head()"
   ]
  },
  {
   "cell_type": "code",
   "execution_count": null,
   "id": "5d657b93",
   "metadata": {},
   "outputs": [],
   "source": [
    "# Find shape of our dataset (Number of rows and columns)"
   ]
  },
  {
   "cell_type": "code",
   "execution_count": null,
   "id": "559f7741",
   "metadata": {},
   "outputs": [],
   "source": [
    "data.shape"
   ]
  },
  {
   "cell_type": "code",
   "execution_count": null,
   "id": "97aaf67a",
   "metadata": {},
   "outputs": [],
   "source": [
    "print(\"Number of rows = \",data.shape[0])\n",
    "print(\"Number of columns = \",data.shape[1])"
   ]
  },
  {
   "cell_type": "code",
   "execution_count": null,
   "id": "fd0674cc",
   "metadata": {},
   "outputs": [],
   "source": [
    "# Names of the columns"
   ]
  },
  {
   "cell_type": "code",
   "execution_count": null,
   "id": "851dee68",
   "metadata": {},
   "outputs": [],
   "source": [
    "data.columns"
   ]
  },
  {
   "cell_type": "code",
   "execution_count": null,
   "id": "7b9c8815",
   "metadata": {},
   "outputs": [],
   "source": [
    "data.duplicated().sum()"
   ]
  },
  {
   "cell_type": "code",
   "execution_count": null,
   "id": "66536afe",
   "metadata": {},
   "outputs": [],
   "source": [
    "# Number of null values in each column"
   ]
  },
  {
   "cell_type": "code",
   "execution_count": null,
   "id": "1d55cbe6",
   "metadata": {},
   "outputs": [],
   "source": [
    "data.isnull().sum()"
   ]
  },
  {
   "cell_type": "code",
   "execution_count": null,
   "id": "6551ae30",
   "metadata": {},
   "outputs": [],
   "source": [
    "# Number of rows and columns, datatypes and memory requirement"
   ]
  },
  {
   "cell_type": "code",
   "execution_count": null,
   "id": "768cc7e4",
   "metadata": {},
   "outputs": [],
   "source": [
    "data.info()"
   ]
  },
  {
   "cell_type": "code",
   "execution_count": null,
   "id": "4b752996",
   "metadata": {},
   "outputs": [],
   "source": [
    "# Overall statistics of the dataset"
   ]
  },
  {
   "cell_type": "code",
   "execution_count": null,
   "id": "3cfe80c0",
   "metadata": {},
   "outputs": [],
   "source": [
    "data.describe()"
   ]
  },
  {
   "cell_type": "code",
   "execution_count": null,
   "id": "75cc8c79",
   "metadata": {},
   "outputs": [],
   "source": [
    "# Number of unique data in each column"
   ]
  },
  {
   "cell_type": "code",
   "execution_count": null,
   "id": "1f5a4bed",
   "metadata": {},
   "outputs": [],
   "source": [
    "data.nunique()"
   ]
  },
  {
   "cell_type": "code",
   "execution_count": null,
   "id": "0684ade3",
   "metadata": {},
   "outputs": [],
   "source": [
    "# Display unique data in a column"
   ]
  },
  {
   "cell_type": "code",
   "execution_count": null,
   "id": "9a6ea414",
   "metadata": {},
   "outputs": [],
   "source": [
    "data['label'].unique()"
   ]
  },
  {
   "cell_type": "code",
   "execution_count": null,
   "id": "995912f3",
   "metadata": {},
   "outputs": [],
   "source": [
    "# Number of occurence of data in a column"
   ]
  },
  {
   "cell_type": "code",
   "execution_count": null,
   "id": "32642cab",
   "metadata": {},
   "outputs": [],
   "source": [
    "data['label'].value_counts()"
   ]
  },
  {
   "cell_type": "code",
   "execution_count": null,
   "id": "1774ad8c",
   "metadata": {},
   "outputs": [],
   "source": [
    "crop_summary = pd.pivot_table(data,index=['label'],aggfunc='mean')\n",
    "crop_summary"
   ]
  },
  {
   "cell_type": "markdown",
   "id": "43ba30f3",
   "metadata": {},
   "source": [
    "# DATA VISUALIZATION"
   ]
  },
  {
   "cell_type": "code",
   "execution_count": null,
   "id": "440dc0f6",
   "metadata": {},
   "outputs": [],
   "source": [
    "import plotly.express as px"
   ]
  },
  {
   "cell_type": "code",
   "execution_count": null,
   "id": "887c74be",
   "metadata": {},
   "outputs": [],
   "source": [
    "# Checking outliers"
   ]
  },
  {
   "cell_type": "code",
   "execution_count": null,
   "id": "ae218a6a",
   "metadata": {},
   "outputs": [],
   "source": [
    "fig = px.box(data,y=\"N\",points=\"all\")\n",
    "fig.show()"
   ]
  },
  {
   "cell_type": "code",
   "execution_count": null,
   "id": "83dbec3f",
   "metadata": {},
   "outputs": [],
   "source": [
    "fig = px.box(data,y=\"P\",points=\"all\")\n",
    "fig.show()"
   ]
  },
  {
   "cell_type": "code",
   "execution_count": null,
   "id": "05b2b5d5",
   "metadata": {},
   "outputs": [],
   "source": [
    "fig = px.box(data,y=\"K\",points=\"all\")\n",
    "fig.show()"
   ]
  },
  {
   "cell_type": "code",
   "execution_count": null,
   "id": "73a25b59",
   "metadata": {},
   "outputs": [],
   "source": [
    "fig = px.box(data,y=\"humidity\",points=\"all\")\n",
    "fig.show()"
   ]
  },
  {
   "cell_type": "code",
   "execution_count": null,
   "id": "ff85fb78",
   "metadata": {},
   "outputs": [],
   "source": [
    "fig = px.box(data,y=\"ph\",points=\"all\")\n",
    "fig.show()"
   ]
  },
  {
   "cell_type": "code",
   "execution_count": null,
   "id": "a0c075b6",
   "metadata": {},
   "outputs": [],
   "source": [
    "fig = px.box(data,y=\"rainfall\",points=\"all\")\n",
    "fig.show()"
   ]
  },
  {
   "cell_type": "code",
   "execution_count": null,
   "id": "969bfb5c",
   "metadata": {},
   "outputs": [],
   "source": [
    "fig = px.box(data,y=\"temperature\",points=\"all\")\n",
    "fig.show()"
   ]
  },
  {
   "cell_type": "code",
   "execution_count": null,
   "id": "1325558e",
   "metadata": {},
   "outputs": [],
   "source": [
    "# Detection and removal of outliers of rainfall column"
   ]
  },
  {
   "cell_type": "code",
   "execution_count": null,
   "id": "bf58401f",
   "metadata": {},
   "outputs": [],
   "source": [
    "df_boston = data\n",
    "df_boston.columns = df_boston.columns\n",
    "df_boston.head()\n",
    "print(\"Old shape : \",df_boston.shape)"
   ]
  },
  {
   "cell_type": "code",
   "execution_count": null,
   "id": "1921c8c0",
   "metadata": {},
   "outputs": [],
   "source": [
    "# Detection of outliers"
   ]
  },
  {
   "cell_type": "code",
   "execution_count": null,
   "id": "3fa495b4",
   "metadata": {},
   "outputs": [],
   "source": [
    "Q1 = np.percentile(df_boston['rainfall'],25,interpolation='midpoint')\n",
    "Q3 = np.percentile(df_boston['rainfall'],75,interpolation='midpoint')\n",
    "IQR = Q3-Q1"
   ]
  },
  {
   "cell_type": "code",
   "execution_count": null,
   "id": "006f1625",
   "metadata": {},
   "outputs": [],
   "source": [
    "# Removal of outliers"
   ]
  },
  {
   "cell_type": "code",
   "execution_count": null,
   "id": "c9947d90",
   "metadata": {},
   "outputs": [],
   "source": [
    "upper = np.where(df_boston['rainfall'] >= (Q3+1.5*IQR))\n",
    "lower = np.where(df_boston['rainfall'] <= (Q1-1.5*IQR))\n",
    "\n",
    "df_boston.drop(upper[0],inplace=True)\n",
    "df_boston.drop(lower[0],inplace=True)\n",
    "print(\"New shape : \",df_boston.shape)"
   ]
  },
  {
   "cell_type": "code",
   "execution_count": null,
   "id": "3fffeb48",
   "metadata": {},
   "outputs": [],
   "source": [
    "data = df_boston\n",
    "plt.figure(figsize = (15,6))\n",
    "sb.barplot(y='N',x='label',data = data,palette = 'hls')\n",
    "plt.xticks(rotation=90)\n",
    "plt.show()"
   ]
  },
  {
   "cell_type": "code",
   "execution_count": null,
   "id": "f3f564d5",
   "metadata": {},
   "outputs": [],
   "source": [
    "crop_summary_new = data.copy()"
   ]
  },
  {
   "cell_type": "code",
   "execution_count": null,
   "id": "913edfe8",
   "metadata": {},
   "outputs": [],
   "source": [
    "import plotly.graph_objects as go\n",
    "import plotly.express as px\n",
    "from plotly.subplots import make_subplots"
   ]
  },
  {
   "cell_type": "code",
   "execution_count": null,
   "id": "523ef239",
   "metadata": {},
   "outputs": [],
   "source": [
    "fig1 = px.bar(crop_summary_new, x='label', y='N')\n",
    "fig1.show()"
   ]
  },
  {
   "cell_type": "code",
   "execution_count": null,
   "id": "fc5130dd",
   "metadata": {},
   "outputs": [],
   "source": [
    "fig1 = px.bar(crop_summary_new, x='label', y='P')\n",
    "fig1.show()"
   ]
  },
  {
   "cell_type": "code",
   "execution_count": null,
   "id": "2a39bfbd",
   "metadata": {},
   "outputs": [],
   "source": [
    "fig1 = px.bar(crop_summary_new, x='label', y='K')\n",
    "fig1.show()"
   ]
  },
  {
   "cell_type": "code",
   "execution_count": null,
   "id": "0167bca5",
   "metadata": {},
   "outputs": [],
   "source": [
    "fig1 = px.bar(crop_summary_new, x='label', y='temperature')\n",
    "fig1.show()"
   ]
  },
  {
   "cell_type": "code",
   "execution_count": null,
   "id": "a8ca7fdd",
   "metadata": {},
   "outputs": [],
   "source": [
    "fig1 = px.bar(crop_summary_new, x='label', y='humidity')\n",
    "fig1.show()"
   ]
  },
  {
   "cell_type": "code",
   "execution_count": null,
   "id": "6e841c1e",
   "metadata": {},
   "outputs": [],
   "source": [
    "fig1 = px.bar(crop_summary_new, x='label', y='ph')\n",
    "fig1.show()"
   ]
  },
  {
   "cell_type": "code",
   "execution_count": null,
   "id": "e411e07a",
   "metadata": {},
   "outputs": [],
   "source": [
    "fig1 = px.bar(crop_summary_new, x='label', y='rainfall')\n",
    "fig1.show()"
   ]
  },
  {
   "cell_type": "code",
   "execution_count": null,
   "id": "7306f579",
   "metadata": {},
   "outputs": [],
   "source": [
    "import random\n",
    "from IPython.core.display import update_display\n",
    "data.corr()"
   ]
  },
  {
   "cell_type": "code",
   "execution_count": null,
   "id": "6c242e52",
   "metadata": {},
   "outputs": [],
   "source": [
    "fig,ax = plt.subplots(1,1,figsize=(15,9))\n",
    "sb.heatmap(data.corr(),annot=True,cmap='Wistia')\n",
    "ax.set(xlabel='features')\n",
    "ax.set(ylabel='features')\n",
    "plt.title('Correlation between different features',fontsize=15,c='black')\n",
    "plt.show()"
   ]
  },
  {
   "cell_type": "code",
   "execution_count": null,
   "id": "ecc8a8b5",
   "metadata": {},
   "outputs": [],
   "source": [
    "# Store feature matrix (input) in x and response (output) in y"
   ]
  },
  {
   "cell_type": "code",
   "execution_count": null,
   "id": "2b0eed25",
   "metadata": {},
   "outputs": [],
   "source": [
    "x = data.drop('label',axis=1)\n",
    "y = data['label']"
   ]
  },
  {
   "cell_type": "code",
   "execution_count": null,
   "id": "0237353c",
   "metadata": {},
   "outputs": [],
   "source": [
    "# Splitting dataset into training set and testing set"
   ]
  },
  {
   "cell_type": "code",
   "execution_count": null,
   "id": "6f45da9b",
   "metadata": {},
   "outputs": [],
   "source": [
    "from sklearn.model_selection import train_test_split\n",
    "x_train, x_test, y_train, y_test = train_test_split(x,y,test_size=0.30,shuffle=True,random_state=0)"
   ]
  },
  {
   "cell_type": "code",
   "execution_count": null,
   "id": "1652942b",
   "metadata": {},
   "outputs": [],
   "source": [
    "import lightgbm as lgb\n",
    "model = lgb.LGBMClassifier()\n",
    "model.fit(x_train, y_train)"
   ]
  },
  {
   "cell_type": "code",
   "execution_count": null,
   "id": "ffeb8620",
   "metadata": {},
   "outputs": [],
   "source": [
    "y_pred = model.predict(x_test)"
   ]
  },
  {
   "cell_type": "code",
   "execution_count": null,
   "id": "1c5e0202",
   "metadata": {},
   "outputs": [],
   "source": [
    "from sklearn.metrics import accuracy_score\n",
    "accuracy = accuracy_score(y_pred,y_test)\n",
    "print('LightGBM Model accuracy score : {0:0.4f}'.format(accuracy_score(y_test,y_pred)))"
   ]
  },
  {
   "cell_type": "code",
   "execution_count": null,
   "id": "b55de286",
   "metadata": {},
   "outputs": [],
   "source": [
    "from sklearn.metrics import confusion_matrix\n",
    "cm = confusion_matrix(y_test,y_pred)\n",
    "plt.figure(figsize=(15,15))\n",
    "sb.heatmap(cm,annot=True,fmt=\".0f\",linewidth=.5,square=True,cmap='Blues')\n",
    "plt.ylabel('Actual Label')\n",
    "plt.xlabel('Predicted Label')\n",
    "all_sample_title = 'Confusion Matrix - Score : ' + str(accuracy_score(y_test,y_pred))\n",
    "plt.show()"
   ]
  },
  {
   "cell_type": "code",
   "execution_count": null,
   "id": "c33846af",
   "metadata": {},
   "outputs": [],
   "source": [
    "from sklearn.metrics import accuracy_score\n",
    "accuracy = accuracy_score(y_pred, y_test)\n",
    "print('LightGBM Model accuracy score: {0:0.4f}'.format(accuracy_score(y_test,y_pred)))"
   ]
  },
  {
   "cell_type": "code",
   "execution_count": null,
   "id": "60bb2f59",
   "metadata": {},
   "outputs": [],
   "source": [
    "from sklearn.metrics import classification_report\n",
    "print(classification_report(y_test,y_pred))"
   ]
  },
  {
   "cell_type": "code",
   "execution_count": null,
   "id": "4b2a457d",
   "metadata": {},
   "outputs": [],
   "source": [
    "from sklearn.tree import DecisionTreeClassifier\n",
    "Classifier = DecisionTreeClassifier(criterion = 'entropy',random_state = 0)"
   ]
  },
  {
   "cell_type": "code",
   "execution_count": null,
   "id": "80d1ae8c",
   "metadata": {},
   "outputs": [],
   "source": [
    "Classifier.fit(x_train,y_train)"
   ]
  },
  {
   "cell_type": "code",
   "execution_count": null,
   "id": "5ab6b85b",
   "metadata": {},
   "outputs": [],
   "source": [
    "y_pred = Classifier.predict(x_test)"
   ]
  },
  {
   "cell_type": "code",
   "execution_count": null,
   "id": "e793202a",
   "metadata": {},
   "outputs": [],
   "source": [
    "from sklearn.metrics import accuracy_score\n",
    "accuracy = accuracy_score(y_test, y_pred)\n",
    "print('LightGBM Model accuracy score: {0:0.4f}'.format(accuracy_score(y_test,y_pred)))"
   ]
  },
  {
   "cell_type": "code",
   "execution_count": null,
   "id": "9d107212",
   "metadata": {},
   "outputs": [],
   "source": [
    "from sklearn.metrics import confusion_matrix\n",
    "cm = confusion_matrix(y_test,y_pred)\n",
    "plt.figure(figsize=(15,15))\n",
    "sb.heatmap(cm,annot=True,fmt=\".0f\",linewidth=.5,square=True,cmap='Blues')\n",
    "plt.ylabel('Actual Label')\n",
    "plt.xlabel('Predicted Label')\n",
    "all_sample_title = 'Confusion Matrix - Score : ' + str(accuracy_score(y_test,y_pred))\n",
    "plt.show()"
   ]
  },
  {
   "cell_type": "code",
   "execution_count": null,
   "id": "2e0b9810",
   "metadata": {},
   "outputs": [],
   "source": [
    "from sklearn.metrics import classification_report\n",
    "print(classification_report(y_test,y_pred))"
   ]
  },
  {
   "cell_type": "code",
   "execution_count": null,
   "id": "cfac1456",
   "metadata": {},
   "outputs": [],
   "source": [
    "x_test[0:1]"
   ]
  },
  {
   "cell_type": "code",
   "execution_count": null,
   "id": "c8861911",
   "metadata": {},
   "outputs": [],
   "source": [
    "result = classifier.predict(x_test[0:1])"
   ]
  },
  {
   "cell_type": "code",
   "execution_count": null,
   "id": "a98963d7",
   "metadata": {},
   "outputs": [],
   "source": [
    "result"
   ]
  },
  {
   "cell_type": "code",
   "execution_count": null,
   "id": "674778c2",
   "metadata": {},
   "outputs": [],
   "source": [
    "y_test[0:1]"
   ]
  },
  {
   "cell_type": "code",
   "execution_count": null,
   "id": "c6e040f3",
   "metadata": {},
   "outputs": [],
   "source": [
    "# Prediction on new data"
   ]
  },
  {
   "cell_type": "code",
   "execution_count": null,
   "id": "363cd948",
   "metadata": {},
   "outputs": [],
   "source": [
    "user_input = [[40,120,150,45.00,34.00,6.34,60.89]]\n",
    "result = classifier.predict(user_input)\n",
    "result"
   ]
  },
  {
   "cell_type": "code",
   "execution_count": null,
   "id": "ac5a05cd",
   "metadata": {},
   "outputs": [],
   "source": [
    "import pandas as pd\n",
    "data_new = pd.DataFrame({\n",
    "    'N':40,\n",
    "    'P':140,\n",
    "    'K':200,\n",
    "    'temperature':40.92,\n",
    "    'humidity':59.87,\n",
    "    'ph':4.98,\n",
    "    'rainfall':200.11,\n",
    "},index=[0])"
   ]
  },
  {
   "cell_type": "code",
   "execution_count": null,
   "id": "fc1a2e86",
   "metadata": {},
   "outputs": [],
   "source": [
    "result = classfier.predict(data_new)\n"
   ]
  },
  {
   "cell_type": "code",
   "execution_count": null,
   "id": "ecae05e3",
   "metadata": {},
   "outputs": [],
   "source": []
  },
  {
   "cell_type": "code",
   "execution_count": null,
   "id": "f6f91748",
   "metadata": {},
   "outputs": [],
   "source": []
  },
  {
   "cell_type": "raw",
   "id": "ad8aa15f",
   "metadata": {},
   "source": []
  }
 ],
 "metadata": {
  "kernelspec": {
   "display_name": "Python 3 (ipykernel)",
   "language": "python",
   "name": "python3"
  },
  "language_info": {
   "codemirror_mode": {
    "name": "ipython",
    "version": 3
   },
   "file_extension": ".py",
   "mimetype": "text/x-python",
   "name": "python",
   "nbconvert_exporter": "python",
   "pygments_lexer": "ipython3",
   "version": "3.10.8"
  }
 },
 "nbformat": 4,
 "nbformat_minor": 5
}
